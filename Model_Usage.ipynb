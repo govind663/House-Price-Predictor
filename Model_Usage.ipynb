{
 "cells": [
  {
   "cell_type": "markdown",
   "id": "427b50d4-0521-4eb6-9142-13658a4eae4c",
   "metadata": {},
   "source": [
    "# **Problem Solution-Usage of the Model**"
   ]
  },
  {
   "cell_type": "code",
   "execution_count": 4,
   "id": "75e7c6b1-7568-4cc6-86c5-5c3defccf8f9",
   "metadata": {},
   "outputs": [
    {
     "name": "stdout",
     "output_type": "stream",
     "text": [
      "The price of this house at Boston with the given features is $ 23809.00000000001\n",
      "\n",
      "\n",
      " Unpreprocessed Features: \n",
      " [0.05819, 85.0, 4.64, 0, 0.992, 6.108, 10.0, 15.2203, 1, 500, 19.4, 399.89, 5] \n",
      "\n",
      " Preprocessed Features: \n",
      " [-0.43818387  3.35228859 -0.97607488 -0.27288841  3.71742977 -0.24141041\n",
      " -2.09188679  5.47308433 -1.0016859   0.52033996  0.43578012  0.48459667\n",
      " -1.07815788]\n"
     ]
    }
   ],
   "source": [
    "from joblib import load\n",
    "import pandas as pd\n",
    "import numpy as np\n",
    "\n",
    "Model = load(\"Model.joblib\")\n",
    "Pre_processor = load(\"Pre_processor.joblib\")\n",
    "\n",
    "features = [0.05819, 85.0, 4.64, 0, 0.992, 6.108, 10.0, 15.2203, 1, 500, 19.4, 399.89, 5]\n",
    "features_na = np.array([features])                                   \n",
    "features_df = pd.DataFrame(features_na)                              # Unpreprocessed Features\n",
    "features_df.rename(columns={0:\"CRIM\", 1:\"ZN\", 2:\"INDUS\", 3:\"CHAS\", 4:\"NOX\", 5:\"RM\", 6:\"AGE\", 7:\"DIS\", 8:\"RAD\", 9:\"TAX\", \n",
    "                                    10:\"PTRATIO\", 11:\"B\", 12:\"LSTAT\"}, inplace=True)\n",
    "features_pp = Pre_processor.transform(features_df)                   # Preprocessed Features\n",
    "price_prediction = Model.predict(features_pp)\n",
    "\n",
    "print(f\"The price of this house at Boston with the given features is $ {1000*price_prediction[0]}\")\n",
    "print(\"\\n\\n Unpreprocessed Features: \\n\", features, \"\\n\\n Preprocessed Features: \\n\", features_pp[0])"
   ]
  }
 ],
 "metadata": {
  "kernelspec": {
   "display_name": "Python 3 (ipykernel)",
   "language": "python",
   "name": "python3"
  },
  "language_info": {
   "codemirror_mode": {
    "name": "ipython",
    "version": 3
   },
   "file_extension": ".py",
   "mimetype": "text/x-python",
   "name": "python",
   "nbconvert_exporter": "python",
   "pygments_lexer": "ipython3",
   "version": "3.10.1"
  }
 },
 "nbformat": 4,
 "nbformat_minor": 5
}
